{
 "cells": [
  {
   "cell_type": "code",
   "execution_count": null,
   "metadata": {},
   "outputs": [],
   "source": [
    "#Use the module datetime to extract the time and date from the header of a fits image. \n",
    "#This function converts the date from 24h format to 12h format, this is useful since 12 is usually 0 in 24h format and could be a bit irritating when computing durations.\n",
    "#This could be done using the function strptime in datetime:\n",
    "\n",
    "\n",
    "def 24t12(file):\n",
    "    header = pyfits.getheader(file)\n",
    "    date = header['DATE_OBS']\n",
    "    time_24h = datetime.datetime.strptime(date,'%Y-%m-%dT%H:%M:%S.%f').time()\n",
    "    d=time.strftime('%I:%M:%S.%f')  \n",
    "    time_12h = datetime.datetime.strptime(d,'%H:%M:%S.%f')\n",
    "    return time_12h\n",
    "\n",
    "\n"
   ]
  }
 ],
 "metadata": {
  "kernelspec": {
   "display_name": "Python 2",
   "language": "python",
   "name": "python2"
  },
  "language_info": {
   "codemirror_mode": {
    "name": "ipython",
    "version": 2
   },
   "file_extension": ".py",
   "mimetype": "text/x-python",
   "name": "python",
   "nbconvert_exporter": "python",
   "pygments_lexer": "ipython2",
   "version": "2.7.12"
  }
 },
 "nbformat": 4,
 "nbformat_minor": 2
}
