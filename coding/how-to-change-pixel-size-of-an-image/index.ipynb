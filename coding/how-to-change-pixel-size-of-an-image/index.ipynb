{
 "cells": [
  {
   "cell_type": "code",
   "execution_count": 1,
   "metadata": {},
   "outputs": [],
   "source": [
    "import numpy as np\n",
    "import matplotlib.pyplot as plt\n",
    "import pyfits\n",
    "from scipy.ndimage.filters import gaussian_filter as gf\n",
    "\n",
    "from scipy import interpolate\n",
    "\n",
    "plt.style.use('ggplot')\n",
    "def Resample(data1,pixel_size_1,pixel_size_2):\n",
    "\n",
    " len_X = len(data1[1,:])\n",
    " len_Y = len(data1[:,1])\n",
    " p = pixel_size_2/pixel_size_1\n",
    " xnew = np.arange(0, len_X, p)\n",
    " ynew = np.arange(0,len_Y,p)\n",
    " f= interpolate.interp2d(np.arange(len_X), np.arange(len_Y),data1, kind='linear')\n",
    " resamp_data1 = f(xnew,ynew)\n",
    " return resamp_data1, resamp_data1.shape\n",
    " "
   ]
  },
  {
   "cell_type": "code",
   "execution_count": null,
   "metadata": {},
   "outputs": [],
   "source": []
  }
 ],
 "metadata": {
  "kernelspec": {
   "display_name": "Python 2",
   "language": "python",
   "name": "python2"
  },
  "language_info": {
   "codemirror_mode": {
    "name": "ipython",
    "version": 2
   },
   "file_extension": ".py",
   "mimetype": "text/x-python",
   "name": "python",
   "nbconvert_exporter": "python",
   "pygments_lexer": "ipython2",
   "version": "2.7.12"
  }
 },
 "nbformat": 4,
 "nbformat_minor": 2
}
