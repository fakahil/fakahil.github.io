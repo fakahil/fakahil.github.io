{
 "cells": [
  {
   "cell_type": "code",
   "execution_count": 1,
   "metadata": {},
   "outputs": [],
   "source": [
    "## To compute the root mean squared contrast of a fits image:\n",
    "\n",
    "import pyfits\n",
    "import numpy as np\n",
    "\n",
    "def RMS(image):\n",
    "   data = pyfits.getdata(image,ignore_missing_end=True)\n",
    "   rms = data.std()/data.mean()\n",
    "   return rms\n"
   ]
  }
 ],
 "metadata": {
  "kernelspec": {
   "display_name": "Python 2",
   "language": "python",
   "name": "python2"
  },
  "language_info": {
   "codemirror_mode": {
    "name": "ipython",
    "version": 2
   },
   "file_extension": ".py",
   "mimetype": "text/x-python",
   "name": "python",
   "nbconvert_exporter": "python",
   "pygments_lexer": "ipython2",
   "version": "2.7.12"
  }
 },
 "nbformat": 4,
 "nbformat_minor": 2
}
