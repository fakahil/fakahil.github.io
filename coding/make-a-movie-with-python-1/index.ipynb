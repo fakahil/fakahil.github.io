{
 "cells": [
  {
   "cell_type": "code",
   "execution_count": null,
   "metadata": {},
   "outputs": [],
   "source": [
    "#If we have a directory which includes a number of science images in fits formats, and want to create a movie (using scitools) of these images (suppose they are a time series), first we convert them into png files and then stack them using the python module 'aplpy':\n",
    "import os\n",
    "import pyfits\n",
    "import aplpy\n",
    "from scitools.std import movie\n",
    "\n",
    "path1 = '....'                            #your fits images path\n",
    "path2 = '...'                                #your output png images path\n",
    "list = os.listdir(path1)            # this will create a list of your images\n",
    "\n",
    "i= 0\n",
    "for file in list:\n",
    "   if file.endswith('.fits'):            #this will choose only fits images if there are other image formats\n",
    "\n",
    "    Im = aplpy.FITSFigure(path1+file)\n",
    "    Im.show_grayscale()\n",
    "    Im.axis_labels.hide()\n",
    "    Im.tick_labels.hide()\n",
    "    Im.ticks.hide()\n",
    "    Im.set_title('Image_'+str(i))\n",
    "    Im.save(path2+'Image_'+str(i)+'.png')\n",
    "    i = i+1\n",
    "\n",
    "movie(path2+\"/*.png\", fps=1, output_file=path2+'movie') #create the movie, usually in gif format\n",
    "\n"
   ]
  }
 ],
 "metadata": {
  "kernelspec": {
   "display_name": "Python 2",
   "language": "python",
   "name": "python2"
  },
  "language_info": {
   "codemirror_mode": {
    "name": "ipython",
    "version": 2
   },
   "file_extension": ".py",
   "mimetype": "text/x-python",
   "name": "python",
   "nbconvert_exporter": "python",
   "pygments_lexer": "ipython2",
   "version": "2.7.12"
  }
 },
 "nbformat": 4,
 "nbformat_minor": 2
}
