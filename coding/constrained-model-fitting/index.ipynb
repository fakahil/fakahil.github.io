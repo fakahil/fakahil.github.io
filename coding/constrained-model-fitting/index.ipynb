{
 "cells": [
  {
   "cell_type": "markdown",
   "metadata": {},
   "source": [
    "# Curve fitting - Constraints"
   ]
  },
  {
   "cell_type": "markdown",
   "metadata": {},
   "source": [
    "### Sometimes we need to put some constraints on the problem, meaning that we would like to have a set of best-fit parameters which correspond to some wanted conditions, usually more sophisticated than just introducing bounds. "
   ]
  },
  {
   "cell_type": "markdown",
   "metadata": {},
   "source": [
    "###  Let's start with defining the objective function and Jacobian matrix. The fitting function we will use is __[scipy.optimize.minimize](https://docs.scipy.org/doc/scipy/reference/generated/scipy.optimize.minimize.html)__. It is the only function that I found which takes complicated constraints."
   ]
  },
  {
   "cell_type": "code",
   "execution_count": 15,
   "metadata": {},
   "outputs": [],
   "source": [
    "from scipy.optimize import minimize\n",
    "import scipy\n",
    "import math\n",
    "from scipy import special\n",
    "import pyfits"
   ]
  },
  {
   "cell_type": "code",
   "execution_count": 2,
   "metadata": {},
   "outputs": [],
   "source": [
    "## the model\n",
    "\n",
    "def Erfc(x,sigma):\n",
    "\n",
    " y = special.erfc(x/(sigma*np.sqrt(2)))\n",
    " return y\n",
    "\n",
    "\n",
    "def SL_fit(x,w1,w2,w3,s1,s2,s3):\n",
    "\n",
    "  f = 0.5*(w1*Erfc(x,s1)+w2*Erfc(x,s2)+w3*Erfc(x,s3)+ (1-w1-w2-w3))\n",
    "  return f"
   ]
  },
  {
   "cell_type": "code",
   "execution_count": 3,
   "metadata": {},
   "outputs": [],
   "source": [
    "\n",
    "\n",
    "## the customised objective function for the minimize function.\n",
    "def Minimize(params,x,y,w):\n",
    " \n",
    " w1 = params[0]\n",
    " w2 = params[1]\n",
    " w3 = params[2]\n",
    " s1 = params[3]\n",
    " s2 = params[4]\n",
    " s3 = params[5]\n",
    " model = 0.5*(w1*Erfc(x,s1)+w2*Erfc(x,s2)+w3*Erfc(x,s3)+(1-w1-w2-w3))\n",
    " return np.sum(((1/w)*(model-y))**2)"
   ]
  },
  {
   "cell_type": "code",
   "execution_count": 4,
   "metadata": {},
   "outputs": [],
   "source": [
    "## The Jacobian matrix\n",
    "def Jac(popt,x,y,w):\n",
    " w1 = popt[0]\n",
    " w2 = popt[1]\n",
    " w3 = popt[2]\n",
    " s1 = popt[3]\n",
    " s2 = popt[4]\n",
    " s3 = popt[5]\n",
    "\n",
    " dfw1 = np.sum(2*(1/w**2)*(SL_fit(x,w1,w2,w3,s1,s2,s3)-y)*(0.5*(Erfc(x,s1)-1)))\n",
    " dfw2 = np.sum(2*(1/w**2)*(SL_fit(x,w1,w2,w3,s1,s2,s3)-y)*(0.5*(Erfc(x,s2)-1)))\n",
    " dfw3 =  np.sum(2*(1/w**2)*(SL_fit(x,w1,w2,w3,s1,s2,s3)-y)*(0.5*(Erfc(x,s3)-1)))\n",
    " dfs1 = np.sum(2*(1/w**2)*(SL_fit(x,w1,w2,w3,s1,s2,s3)-y)*(w1*x*np.exp(-x**2/(2*s1**2))/ (np.sqrt(2*np.pi)*s1**2)))\n",
    " dfs2 =np.sum( 2*(1/w**2)*(SL_fit(x,w1,w2,w3,s1,s2,s3)-y)*(w2*x*np.exp(-x**2/(2*s2**2))/ (np.sqrt(2*np.pi)*s2**2)))\n",
    " dfs3 = np.sum(2*(1/w**2)*(SL_fit(x,w1,w2,w3,s1,s2,s3)-y)*(w3*x*np.exp(-x**2/(2*s3**2))/ (np.sqrt(2*np.pi)*s3**2)))\n",
    " return np.transpose(np.array([dfw1,dfw2,dfw3,dfs1,dfs2,dfs3]))\n"
   ]
  },
  {
   "cell_type": "code",
   "execution_count": 5,
   "metadata": {},
   "outputs": [],
   "source": [
    "import numpy as np\n",
    "import matplotlib.pyplot as plt"
   ]
  },
  {
   "cell_type": "code",
   "execution_count": 6,
   "metadata": {},
   "outputs": [],
   "source": [
    "path = \"/home/fatima/Desktop/project_3/\"\n",
    "file = np.loadtxt(path+'limb_profile_av_norm_shifted')\n",
    "x = file[:,0]\n",
    "y = file[:,1]\n",
    "ind = np.where(x>=0)\n",
    "x = x[ind]\n",
    "y = y[ind]\n",
    "weights = np.sqrt(np.abs(y))\n",
    "#p0=[0.3, 0.3, 0.2, 1, 2, 3]\n",
    "p0  = [0.544,0.291,0.068,0.3,0.9,4.7]"
   ]
  },
  {
   "cell_type": "markdown",
   "metadata": {},
   "source": [
    "### For unconstrained fit, the minimize function is called. Note that the args parameter of the function should have the same format as the parameters passed to the objective function."
   ]
  },
  {
   "cell_type": "code",
   "execution_count": 8,
   "metadata": {},
   "outputs": [
    {
     "name": "stdout",
     "output_type": "stream",
     "text": [
      "Optimization terminated successfully.\n",
      "         Current function value: 0.001221\n",
      "         Iterations: 40\n",
      "         Function evaluations: 51\n",
      "         Gradient evaluations: 51\n",
      "[ 0.52750273  0.28882469  0.10191702  0.25905394  0.76540951  2.83344876]\n"
     ]
    },
    {
     "name": "stderr",
     "output_type": "stream",
     "text": [
      "/usr/local/lib/python2.7/dist-packages/ipykernel_launcher.py:1: OptimizeWarning: Unknown solver options: xtol, maxit\n",
      "  \"\"\"Entry point for launching an IPython kernel.\n"
     ]
    }
   ],
   "source": [
    "mini = scipy.optimize.minimize(Minimize,p0,args=(x,y,weights),jac=Jac,options={'xtol':1e-8,'gtol': 1e-8,'maxit':5000, 'disp': True})\n",
    "print mini.x"
   ]
  },
  {
   "cell_type": "markdown",
   "metadata": {},
   "source": [
    "### Now let's introduce some easy-defined constraints. Usually the defined constraint function which  will be passed later to the fitting function minimize, returns a zero or a positive value. For example if we want to have the parameter s2 to be larger than s1 in the resultant fitting process, we can type the following:"
   ]
  },
  {
   "cell_type": "code",
   "execution_count": 9,
   "metadata": {},
   "outputs": [],
   "source": [
    "def Con_1(params):\n",
    " w1 = params[0]\n",
    " w2 = params[1]\n",
    " w3 = params[2]\n",
    " w4 = 1-(w1+w2+w3)\n",
    " s1 = params[3]\n",
    " s2 = params[4]\n",
    " s3 = params[5] \n",
    " return s2-s1    "
   ]
  },
  {
   "cell_type": "markdown",
   "metadata": {},
   "source": [
    "### And then we add this constraint function to the object *cons* and specify whether it is an equality or inequality constraint.  The reason for defining this object is to include as many constraint functions as possible. This object is passed to the function minimize under the parameter *constraints*."
   ]
  },
  {
   "cell_type": "code",
   "execution_count": 11,
   "metadata": {},
   "outputs": [],
   "source": [
    "cons = ({'type':'ineq','fun':Con_1}) ##this tells minimize that we want the returned value of the constraint function should be positive"
   ]
  },
  {
   "cell_type": "markdown",
   "metadata": {},
   "source": [
    "### Now we pass this constraint to *minimize* but we have to also change the method of optimization which is defined for constrained problems. Check __[scipy.optimize.minimize](https://docs.scipy.org/doc/scipy/reference/generated/scipy.optimize.minimize.html)__ for more details on the optimization methods available."
   ]
  },
  {
   "cell_type": "code",
   "execution_count": 13,
   "metadata": {},
   "outputs": [
    {
     "name": "stdout",
     "output_type": "stream",
     "text": [
      "Optimization terminated successfully.    (Exit mode 0)\n",
      "            Current function value: 0.00233234740213\n",
      "            Iterations: 8\n",
      "            Function evaluations: 17\n",
      "            Gradient evaluations: 8\n",
      "[ 0.56554532  0.27822938  0.09418257  0.27118045  0.8841216   4.69687872]\n"
     ]
    },
    {
     "name": "stderr",
     "output_type": "stream",
     "text": [
      "/usr/local/lib/python2.7/dist-packages/ipykernel_launcher.py:2: OptimizeWarning: Unknown solver options: xtol, maxit, gtol\n",
      "  \n"
     ]
    }
   ],
   "source": [
    "\n",
    "mini = scipy.optimize.minimize(Minimize,p0,args=(x,y,weights),jac=Jac,constraints=cons,method='SLSQP',options={'xtol':1e-8,'gtol': 1e-8,'maxit':5000, 'disp': True})\n",
    "popt = mini.x ## the best-fit parameters\n",
    "print popt"
   ]
  },
  {
   "cell_type": "markdown",
   "metadata": {},
   "source": [
    "### Now I will introduce a more complicated constraint function. For a better understanding of this function, I recommend going back to  __[data_cleaning](https://github.com/fakahil/Projects/blob/master/cleaning_data.ipynb)__ which explaines how to use the model introduced here to cleaning my data for stray light.\n",
    "### In my project, I have used this constraint function to force minimize to fit the model to the data in a way that the RMS contrast (check __[RMS_contrast](https://github.com/fakahil/PhD-codes-and-functions/blob/master/RMS_contrast.ipynb)__) of the corrected image should be equal to a certain value, usually that returned by theoretical expectations (Magnetohydrodynamical simulations of the solar convection)."
   ]
  },
  {
   "cell_type": "code",
   "execution_count": 19,
   "metadata": {},
   "outputs": [],
   "source": [
    "## Here I am loading the image to be corrected and embedding it to preparing it for use by the constraint function\n",
    "\n",
    "image = 'sufi300_lev3_2009.fits'\n",
    "imscale=0.0198\n",
    "Input = pyfits.getdata(path+image, ignore_missing_header=True)\n",
    "w_in = Input.shape[1]\n",
    "h_in = Input.shape[0]\n",
    "Input_emb = np.zeros((h_in,h_in))\n",
    "Input_emb[:,(h_in-w_in)/2:(h_in+w_in)/2] = Input  \n",
    "mtf_pd = pyfits.getdata(path+'MTF_PD_large.fits')[0]\n",
    "freqscale = 1./(h_in*imscale)\n",
    "otf = np.zeros((h_in,h_in))\n",
    "i,j = np.indices([h_in,h_in])*freqscale\n",
    "center = np.array([(i.max()-i.min())/2.0, (j.max()-j.min())/2.0])\n",
    "xc = int(center[1])\n",
    "yc = int(center[0])\n",
    "r = np.hypot(i - yc, j - xc)"
   ]
  },
  {
   "cell_type": "code",
   "execution_count": 20,
   "metadata": {},
   "outputs": [],
   "source": [
    "## The constraint function\n",
    "def Con(params):\n",
    " w1 = params[0]\n",
    " w2 = params[1]\n",
    " w3 = params[2]\n",
    " w4 = 1-(w1+w2+w3)\n",
    " s1 = params[3]\n",
    " s2 = params[4]\n",
    " s3 = params[5]\n",
    " s_t = s1\n",
    " ss2 = np.sqrt(s2**2 - s_t**2)\n",
    " ss3 = np.sqrt(s3**2 - s_t**2)\n",
    " otf = w1*mtf_pd+w2*np.exp(-2 * np.pi**2 * ss2**2* r**2 )+w3*np.exp(-2 * np.pi**2 *ss3**2 * r**2 )\n",
    " otf[yc,xc] = otf[yc,xc]+w4\n",
    " ind_ne_0 = np.where(mtf_pd!=0)\n",
    " ind_eq_0 = np.where(mtf_pd==0)\n",
    " otf[ind_ne_0] = otf[ind_ne_0]/mtf_pd[ind_ne_0]\n",
    " otf[ind_eq_0] = w1\n",
    " otf = np.fft.ifftshift(otf)\n",
    " Input_fft = np.fft.fft2(Input_emb)\n",
    " Input_deconv = np.real(np.fft.ifft2(Input_fft/otf))\n",
    " Input_deconv = Input_deconv[:,(h_in-w_in)/2:(h_in+w_in)/2]\n",
    " RMS = Input_deconv.std()/Input_deconv.mean()\n",
    " return 0.3-RMS"
   ]
  },
  {
   "cell_type": "markdown",
   "metadata": {},
   "source": [
    "### As you can notice, everytime *minimize* performs the least-square fitting, it should returns the computed parameters to the constaint function, *Con* to build the total PSF, decovolve the science image with it and test the returned RMS value of the corrected image if it's equal to 0.3 or not, so it is computationally expensive.\n",
    "### Now we construct the *cons* object:"
   ]
  },
  {
   "cell_type": "code",
   "execution_count": 21,
   "metadata": {},
   "outputs": [],
   "source": [
    "cons = ({'type':'eq','fun':Con})"
   ]
  },
  {
   "cell_type": "code",
   "execution_count": null,
   "metadata": {},
   "outputs": [],
   "source": [
    "mini = minimize(Minimize,p0,args=(x,y,weights),constraints=cons,method='SLSQP',options={'xtol':1e-8,'gtol': 1e-8,'maxit':5000, 'disp': True})"
   ]
  },
  {
   "cell_type": "markdown",
   "metadata": {},
   "source": [
    "### Since the returned value by the objective function Minimize is the chi-squared value (check the expression of the objective function), we can compute the chi-squared value like this"
   ]
  },
  {
   "cell_type": "code",
   "execution_count": null,
   "metadata": {},
   "outputs": [],
   "source": [
    "chi_sq = Minimize(mini.x,x,y,weights)"
   ]
  }
 ],
 "metadata": {
  "kernelspec": {
   "display_name": "Python 2",
   "language": "python",
   "name": "python2"
  },
  "language_info": {
   "codemirror_mode": {
    "name": "ipython",
    "version": 2
   },
   "file_extension": ".py",
   "mimetype": "text/x-python",
   "name": "python",
   "nbconvert_exporter": "python",
   "pygments_lexer": "ipython2",
   "version": "2.7.12"
  }
 },
 "nbformat": 4,
 "nbformat_minor": 2
}
