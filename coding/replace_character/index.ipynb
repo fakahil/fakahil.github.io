{
 "cells": [
  {
   "cell_type": "markdown",
   "metadata": {},
   "source": [
    "# I show here how to remove a certain character from set of lines in a text file using Python"
   ]
  },
  {
   "cell_type": "code",
   "execution_count": 1,
   "metadata": {},
   "outputs": [],
   "source": [
    "import numpy as np\n"
   ]
  },
  {
   "cell_type": "markdown",
   "metadata": {},
   "source": [
    "## Here I am reading each line and removing the character '%'"
   ]
  },
  {
   "cell_type": "code",
   "execution_count": null,
   "metadata": {},
   "outputs": [],
   "source": [
    "F =open(path+'textfile1.txt','r')\n",
    "F2 = open(path+'textfile2.txt','w')\n",
    "\n",
    "for line in F:\n",
    "    line = line.split('%')[0]\n",
    "    F2.write(line+'\\n')\n",
    "F2.close()\n"
   ]
  },
  {
   "cell_type": "markdown",
   "metadata": {},
   "source": [
    "## Here I am removing the same character and replacing a comma in a decimal by a point"
   ]
  },
  {
   "cell_type": "code",
   "execution_count": null,
   "metadata": {},
   "outputs": [],
   "source": [
    "F =open(path+'textfile1.txt','r')\n",
    "F2 = open(path+'textfile2.txt','w')\n",
    "\n",
    "for line in F:\n",
    "     l = []\n",
    "     \n",
    "    \n",
    "     line = line.split('%')[0]\n",
    "    \n",
    "     for n in range(len(line.split())):\n",
    "        l.append(line.split()[n].replace(',','.'))\n",
    "        \n",
    "     l = ' '.join(l)\n",
    "        \n",
    "     F2.write(l+'\\n') #to convert list to str (https://www.decalage.info/en/python/print_list)\n",
    "F2.close()"
   ]
  }
 ],
 "metadata": {
  "kernelspec": {
   "display_name": "Python 2",
   "language": "python",
   "name": "python2"
  },
  "language_info": {
   "codemirror_mode": {
    "name": "ipython",
    "version": 2
   },
   "file_extension": ".py",
   "mimetype": "text/x-python",
   "name": "python",
   "nbconvert_exporter": "python",
   "pygments_lexer": "ipython2",
   "version": "2.7.12"
  }
 },
 "nbformat": 4,
 "nbformat_minor": 2
}
