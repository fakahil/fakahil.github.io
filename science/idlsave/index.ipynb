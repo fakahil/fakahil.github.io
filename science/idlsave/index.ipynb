{
 "cells": [
  {
   "cell_type": "code",
   "execution_count": null,
   "metadata": {},
   "outputs": [],
   "source": [
    "#Sometimes I have to deal with codes written by others in others programming languages (like IDL!), it is not hard to learn but definitely not cool as python ;)\n",
    "#I always like to re-write those codes in python, simply because I am used to it. And for that, I need to check if both codes return the same output, which sometimes rises the need to convert images from sav format (output of IDL) to fits.\n",
    "\n",
    "#In python, this is possible using the module IDLSave, below is the documentary link:\n",
    "#http://astrofrog.github.io/idlsave/\n",
    "\n",
    "#I wrote a function that simply takes the sav file and convert it to fits:\n",
    "\n",
    "import idlsave\n",
    "import pyfits\n",
    "\n",
    "def SAV2FITS(image,output): \n",
    "  im = idlsave.read(image)\n",
    "  data = im.values()[0]\n",
    "  hdu = pyfits.PrimaryHDU(data)\n",
    "  hdu.writeto(output)\n",
    " \n",
    "\n",
    "\n"
   ]
  }
 ],
 "metadata": {
  "kernelspec": {
   "display_name": "Python 2",
   "language": "python",
   "name": "python2"
  },
  "language_info": {
   "codemirror_mode": {
    "name": "ipython",
    "version": 2
   },
   "file_extension": ".py",
   "mimetype": "text/x-python",
   "name": "python",
   "nbconvert_exporter": "python",
   "pygments_lexer": "ipython2",
   "version": "2.7.12"
  }
 },
 "nbformat": 4,
 "nbformat_minor": 2
}
