{
 "cells": [
  {
   "cell_type": "code",
   "execution_count": null,
   "metadata": {},
   "outputs": [],
   "source": [
    "#If you have both date and time in year-month-dayThour:minute:second format, this function will compute the time difference in seconds:\n",
    "import pyfits\n",
    "import datetime\n",
    "\n",
    " def diff_time(t1, t2):\n",
    "\n",
    "    h1, m1, s1 = t1.hour, t1.minute, t1.second\n",
    "    h2, m2, s2 = t2.hour, t2.minute, t2.second\n",
    "   t1_secs = s1 + (60*m1)\n",
    "   t2_secs = s2 + (60*m2)\n",
    "   return (t2_secs - t1_secs)\n",
    "\n",
    "#More information about the datetime module:\n",
    "#https://docs.python.org/2/library/datetime.html#\n",
    "\n"
   ]
  }
 ],
 "metadata": {
  "kernelspec": {
   "display_name": "Python 2",
   "language": "python",
   "name": "python2"
  },
  "language_info": {
   "codemirror_mode": {
    "name": "ipython",
    "version": 2
   },
   "file_extension": ".py",
   "mimetype": "text/x-python",
   "name": "python",
   "nbconvert_exporter": "python",
   "pygments_lexer": "ipython2",
   "version": "2.7.12"
  }
 },
 "nbformat": 4,
 "nbformat_minor": 2
}
