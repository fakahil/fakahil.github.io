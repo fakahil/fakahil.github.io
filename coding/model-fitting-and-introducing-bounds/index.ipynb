{
 "cells": [
  {
   "cell_type": "markdown",
   "metadata": {},
   "source": [
    "# Curve fitting - Bounds"
   ]
  },
  {
   "cell_type": "markdown",
   "metadata": {},
   "source": [
    "\n",
    "### In this second part, I will explain how to fit a set of data points but with the use of bounds. \n"
   ]
  },
  {
   "cell_type": "code",
   "execution_count": 1,
   "metadata": {},
   "outputs": [],
   "source": [
    "## importing the libraries\n",
    "import numpy as np\n",
    "import math as m\n",
    "import scipy\n",
    "import matplotlib.pyplot as plt\n",
    "from scipy import special"
   ]
  },
  {
   "cell_type": "code",
   "execution_count": 2,
   "metadata": {},
   "outputs": [],
   "source": [
    "def Erfc(x,sigma):\n",
    "\n",
    " y = special.erfc(x/(sigma*np.sqrt(2)))\n",
    " return y\n",
    "\n",
    "## Introducing the model to be used later for the fitting\n",
    "\n",
    "def SL_fit(x,w1,w2,w3,s1,s2,s3):\n",
    "\n",
    "  f = 0.5*(w1*Erfc(x,s1)+w2*Erfc(x,s2)+w3*Erfc(x,s3)+ (1-w1-w2-w3))\n",
    "  return f"
   ]
  },
  {
   "cell_type": "code",
   "execution_count": 3,
   "metadata": {},
   "outputs": [],
   "source": [
    "## Importing data\n",
    "path = \"/home/fatima/Desktop/project_3/\"\n",
    "file = np.loadtxt(path+'limb_profile_av_norm_shifted')\n",
    "x = file[:,0]\n",
    "y = file[:,1]\n",
    "ind = np.where(x>=0)\n",
    "x = x[ind]\n",
    "y = y[ind]\n",
    "weights = np.sqrt(np.abs(y))"
   ]
  },
  {
   "cell_type": "markdown",
   "metadata": {},
   "source": [
    "### The first option is to use __[scipy.optimize.curve_fit](https://docs.scipy.org/doc/scipy/reference/generated/scipy.optimize.curve_fit.html)__. The defined bounds should be in 2 tuples of arrays. The first array should include the lower boundaries of the fit parameters while the second array should include the maximum boundaries."
   ]
  },
  {
   "cell_type": "code",
   "execution_count": 4,
   "metadata": {},
   "outputs": [],
   "source": [
    "from scipy.optimize import curve_fit"
   ]
  },
  {
   "cell_type": "code",
   "execution_count": 5,
   "metadata": {},
   "outputs": [],
   "source": [
    "bounds = ((0,0,0,0,0,0),(1,1,1,5,5,5)) "
   ]
  },
  {
   "cell_type": "markdown",
   "metadata": {},
   "source": [
    "### usually for constrained fitting, the method to be passed to curve_fit is 'trf' instead of 'lm', which is only suitable for unconstrained fit."
   ]
  },
  {
   "cell_type": "code",
   "execution_count": 7,
   "metadata": {},
   "outputs": [],
   "source": [
    "p0=[0.3, 0.3, 0.2, 1, 2, 3]\n",
    "popt, pcov = curve_fit(SL_fit,x,y,p0,bounds=bounds,method='trf',sigma=weights,ftol=1e-8,xtol=1e-8,maxfev=5000)"
   ]
  },
  {
   "cell_type": "code",
   "execution_count": 8,
   "metadata": {},
   "outputs": [
    {
     "name": "stdout",
     "output_type": "stream",
     "text": [
      "[ 0.52750384  0.28882404  0.10191667  0.25905432  0.76541192  2.83346098]\n"
     ]
    }
   ],
   "source": [
    "print popt"
   ]
  },
  {
   "cell_type": "code",
   "execution_count": 9,
   "metadata": {},
   "outputs": [],
   "source": [
    "## unconstrained fit:\n",
    "popt_un, pcov_un = curve_fit(SL_fit,x,y,p0,method='lm',sigma=weights,ftol=1e-8,xtol=1e-8,maxfev=5000)"
   ]
  },
  {
   "cell_type": "code",
   "execution_count": 10,
   "metadata": {},
   "outputs": [
    {
     "name": "stdout",
     "output_type": "stream",
     "text": [
      "[ 0.52750103  0.28882568  0.10191755  0.25905336  0.76540583  2.83343007]\n"
     ]
    }
   ],
   "source": [
    "print popt_un"
   ]
  },
  {
   "cell_type": "markdown",
   "metadata": {},
   "source": [
    "### As you can see, there is no major difference in the output best-fit parameters between the constrained and unconstrained fit. This implies that the solution converges alright to the global one."
   ]
  },
  {
   "cell_type": "markdown",
   "metadata": {},
   "source": [
    "### The second option is to use __[scipy.optimize.least_squares](https://docs.scipy.org/doc/scipy/reference/generated/scipy.optimize.least_squares.html#scipy.optimize.least_squals)__. But then as we saw in __[curve_fitting](https://github.com/fakahil/Projects/blob/master/curve_fitting.ipynb)__ we have to redefine the objective function."
   ]
  },
  {
   "cell_type": "code",
   "execution_count": 12,
   "metadata": {},
   "outputs": [],
   "source": [
    "from scipy.optimize import least_squares"
   ]
  },
  {
   "cell_type": "code",
   "execution_count": 15,
   "metadata": {},
   "outputs": [],
   "source": [
    "def Leastsquares(params, x,y,w):\n",
    " w1 = params[0]\n",
    " w2 = params[1]\n",
    " w3 = params[2]\n",
    " s1 = params[3]\n",
    " s2 = params[4]\n",
    " s3 = params[5]\n",
    " model = 0.5*(w1*Erfc(x,s1)+w2*Erfc(x,s2)+w3*Erfc(x,s3)+(1-w1-w2-w3))\n",
    " return (1/w)*(model-y)\n"
   ]
  },
  {
   "cell_type": "code",
   "execution_count": 17,
   "metadata": {},
   "outputs": [],
   "source": [
    "res_leastsquares = least_squares(Leastsquares, p0,method='trf',bounds=bounds,args=(x,y,weights),ftol=1e-8,xtol=1e-8,max_nfev=5000)"
   ]
  },
  {
   "cell_type": "code",
   "execution_count": 18,
   "metadata": {},
   "outputs": [
    {
     "name": "stdout",
     "output_type": "stream",
     "text": [
      "[ 0.52750384  0.28882404  0.10191667  0.25905432  0.76541192  2.83346098]\n"
     ]
    }
   ],
   "source": [
    "print res_leastsquares.x"
   ]
  },
  {
   "cell_type": "markdown",
   "metadata": {},
   "source": [
    "\n",
    "### The third option is to use  __[lmfit](https://lmfit.github.io/lmfit-py/)__ . The bounds could be entered as minimum and maximum parameters of the Parameters object."
   ]
  },
  {
   "cell_type": "code",
   "execution_count": 19,
   "metadata": {},
   "outputs": [],
   "source": [
    "import lmfit\n",
    "from lmfit import Minimizer, minimize, Parameters, report_fit"
   ]
  },
  {
   "cell_type": "code",
   "execution_count": 20,
   "metadata": {},
   "outputs": [],
   "source": [
    "## defining the objective function\n",
    "def residual(params, x,y,w):\n",
    " w1 = params['omega1']\n",
    " w2 = params['omega2']\n",
    " w3 = params['omega3']\n",
    " s1 = params['sigma1']\n",
    " s2 = params['sigma2']\n",
    " s3 = params['sigma3']\n",
    "\n",
    " model = 0.5*(w1*Erfc(x,s1)+w2*Erfc(x,s2)+w3*Erfc(x,s3)+(1-w1-w2-w3))\n",
    "\n",
    " return (1/w)*(y-model)"
   ]
  },
  {
   "cell_type": "code",
   "execution_count": 22,
   "metadata": {},
   "outputs": [
    {
     "name": "stdout",
     "output_type": "stream",
     "text": [
      "Name       Value      Min      Max   Stderr     Vary     Expr\n",
      "omega1    0.5275        0        1 0.003494     True     None\n",
      "omega2    0.2888        0        1 0.002846     True     None\n",
      "omega3    0.1019        0        1 0.001194     True     None\n",
      "sigma1    0.2591        0        5 0.001357     True     None\n",
      "sigma2    0.7654        0        5 0.007153     True     None\n",
      "sigma3     2.833        0        5  0.04738     True     None\n"
     ]
    }
   ],
   "source": [
    "params = Parameters()\n",
    "params.add('omega1', value=0.3,min=0,max=1)\n",
    "params.add('omega2', value=0.3,min=0,max=1)\n",
    "params.add('omega3', value=0.3,min=0,max=1)\n",
    "params.add('sigma1', value=0.30,min=0,max=5)\n",
    "params.add('sigma2', value=2,min=0,max=5)\n",
    "params.add('sigma3',value=3,min=0,max=5)\n",
    "out = lmfit.minimize(residual,params,method='leastsq',args=(x,y,weights))\n",
    "#report_fit(out.params)\n",
    "out.params.pretty_print()\n",
    "\n"
   ]
  },
  {
   "cell_type": "markdown",
   "metadata": {},
   "source": [
    "### One cool application of lmfit is that it allows to fix one or more parameters while varying the others. This can be done by using the parameter *vary* which set by default to *True*"
   ]
  },
  {
   "cell_type": "code",
   "execution_count": 24,
   "metadata": {},
   "outputs": [
    {
     "name": "stdout",
     "output_type": "stream",
     "text": [
      "Name       Value      Min      Max   Stderr     Vary     Expr\n",
      "omega1    0.6164        0        1 0.002565     True     None\n",
      "omega2    0.2268        0        1 0.003173     True     None\n",
      "omega3   0.08511        0        1 0.001487     True     None\n",
      "sigma1       0.3     -inf      inf        0    False     None\n",
      "sigma2     0.973        0        5  0.01644     True     None\n",
      "sigma3     3.985        0        5   0.3694     True     None\n"
     ]
    }
   ],
   "source": [
    "## for example if we want to fix the parameter omega3 in the params class, we can type the following:\n",
    "params = Parameters()\n",
    "params.add('omega1', value=0.3,min=0,max=1)\n",
    "params.add('omega2', value=0.3,min=0,max=1)\n",
    "params.add('omega3', value=0.3,min=0,max=1)\n",
    "params.add('sigma1', value=0.30,vary=False)#,min=0,max=5)\n",
    "params.add('sigma2', value=2,min=0,max=5)\n",
    "params.add('sigma3',value=3,min=0,max=5)\n",
    "out2 = lmfit.minimize(residual,params,method='leastsq',args=(x,y,weights))\n",
    "out2.params.pretty_print()"
   ]
  }
 ],
 "metadata": {
  "kernelspec": {
   "display_name": "Python 2",
   "language": "python",
   "name": "python2"
  },
  "language_info": {
   "codemirror_mode": {
    "name": "ipython",
    "version": 2
   },
   "file_extension": ".py",
   "mimetype": "text/x-python",
   "name": "python",
   "nbconvert_exporter": "python",
   "pygments_lexer": "ipython2",
   "version": "2.7.12"
  }
 },
 "nbformat": 4,
 "nbformat_minor": 2
}
