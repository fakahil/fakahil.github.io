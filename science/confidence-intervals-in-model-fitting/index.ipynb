{
 "cells": [
  {
   "cell_type": "markdown",
   "metadata": {},
   "source": [
    "# Confidence Intervals\n",
    "\n",
    "### In this project, I will show how to retrieve confidence intervals from given errors on best-fit parameters. I will be using the same limb model adopted in the rest of the projects, in addition to the error retrieval methods explained in __[error_estimation](https://github.com/fakahil/Projects/blob/master/error_estimation.ipynb)__"
   ]
  },
  {
   "cell_type": "code",
   "execution_count": 1,
   "metadata": {},
   "outputs": [],
   "source": [
    "## importing the libraries\n",
    "import numpy as np\n",
    "import math as m\n",
    "import scipy\n",
    "import matplotlib.pyplot as plt\n",
    "from scipy import special\n",
    "from scipy.optimize import curve_fit\n"
   ]
  },
  {
   "cell_type": "code",
   "execution_count": 2,
   "metadata": {},
   "outputs": [],
   "source": [
    "def Erfc(x,sigma):\n",
    "\n",
    " y = special.erfc(x/(sigma*np.sqrt(2)))\n",
    " return y\n",
    "\n",
    "## Introducing the model to be used later for the fitting\n",
    "\n",
    "def SL_fit(x,w1,w2,w3,s1,s2,s3):\n",
    "\n",
    "  f = 0.5*(w1*Erfc(x,s1)+w2*Erfc(x,s2)+w3*Erfc(x,s3)+ (1-w1-w2-w3))\n",
    "  return f"
   ]
  },
  {
   "cell_type": "code",
   "execution_count": 3,
   "metadata": {},
   "outputs": [],
   "source": [
    "## Importing data\n",
    "path = \"/home/fatima/Desktop/project_3/\"\n",
    "file = np.loadtxt(path+'limb_profile_av_norm_shifted')\n",
    "x = file[:,0]\n",
    "y = file[:,1]\n",
    "ind = np.where(x>=0)\n",
    "x = x[ind]\n",
    "y = y[ind]\n",
    "weights = np.sqrt(np.abs(y))"
   ]
  },
  {
   "cell_type": "code",
   "execution_count": 4,
   "metadata": {},
   "outputs": [
    {
     "name": "stdout",
     "output_type": "stream",
     "text": [
      "[ 0.52750103  0.28882568  0.10191755  0.25905336  0.76540583  2.83343007]\n"
     ]
    }
   ],
   "source": [
    "p0=[0.3, 0.3, 0.2, 1, 2, 3] ## initial guess best-fit parameters\n",
    "popt, pcov = curve_fit(SL_fit,x,y,p0,method='lm',sigma=weights,ftol=1e-8,xtol=1e-8,maxfev=5000)\n",
    "chi_sq_w = np.sum((1/weights**2)*(SL_fit(x,*popt)-y)**2)\n",
    "red_chi_sq = chi_sq_w/(len(y)-len(popt))\n",
    "print popt # to print the best-fit parameters"
   ]
  },
  {
   "cell_type": "markdown",
   "metadata": {},
   "source": [
    "### To compute the errors on the best-fit parmeters:"
   ]
  },
  {
   "cell_type": "code",
   "execution_count": 5,
   "metadata": {},
   "outputs": [
    {
     "name": "stdout",
     "output_type": "stream",
     "text": [
      "[ 0.00349415  0.0028457   0.00119396  0.00135734  0.00715294  0.04738134]\n"
     ]
    }
   ],
   "source": [
    "perr = np.sqrt(np.diag(pcov))\n",
    "print perr "
   ]
  },
  {
   "cell_type": "markdown",
   "metadata": {},
   "source": [
    "### The errors returned by __[curve_fit](https://docs.scipy.org/doc/scipy/reference/generated/scipy.optimize.curve_fit.html)__ is the standard error with 67% confidence interval. If we want to derive for example the 95% CI, we should look up for the __[Z-table](https://en.wikipedia.org/wiki/Standard_normal_table)__. However, this is only valid if the parameters follow a normal distribution, which is not the case for small sample size. This is where the __[t-distribution](https://en.wikipedia.org/wiki/Student%27s_t-distribution)__ comes in handy."
   ]
  },
  {
   "cell_type": "code",
   "execution_count": 6,
   "metadata": {},
   "outputs": [],
   "source": [
    "from scipy.stats.distributions import  t"
   ]
  },
  {
   "cell_type": "code",
   "execution_count": 8,
   "metadata": {},
   "outputs": [
    {
     "name": "stdout",
     "output_type": "stream",
     "text": [
      "c0: 0.527501034975 [0.520622132349  0.534379937602]\n",
      "c1: 0.288825684997 [0.283223380201  0.294427989793]\n",
      "c2: 0.101917547745 [0.0995670000292  0.104268095461]\n",
      "c3: 0.259053363897 [0.256381173639  0.261725554154]\n",
      "c4: 0.765405833574 [0.751323900146  0.779487767002]\n",
      "c5: 2.83343007291 [2.74015081783  2.92670932799]\n"
     ]
    }
   ],
   "source": [
    "alpha = 0.05 # 95% confidence interval\n",
    "N = len(y)\n",
    "P = len(popt)\n",
    "dof = max(0,N-P) ## dof is the degrees of freedom\n",
    "tval = t.ppf(1.0 - alpha / 2.0, dof) \n",
    "for i, p,var in zip(range(N), popt, np.diag(pcov)):\n",
    "    Sigma = var**0.5\n",
    "    print 'c{0}: {1} [{2}  {3}]'.format(i, p,p - Sigma*tval,p + Sigma*tval)"
   ]
  },
  {
   "cell_type": "markdown",
   "metadata": {},
   "source": [
    "### Voila!"
   ]
  }
 ],
 "metadata": {
  "kernelspec": {
   "display_name": "Python 2",
   "language": "python",
   "name": "python2"
  },
  "language_info": {
   "codemirror_mode": {
    "name": "ipython",
    "version": 2
   },
   "file_extension": ".py",
   "mimetype": "text/x-python",
   "name": "python",
   "nbconvert_exporter": "python",
   "pygments_lexer": "ipython2",
   "version": "2.7.12"
  }
 },
 "nbformat": 4,
 "nbformat_minor": 2
}
