{
 "cells": [
  {
   "cell_type": "code",
   "execution_count": null,
   "metadata": {},
   "outputs": [],
   "source": [
    "#Astronomical images usually contains headers, where information about the image is stored.\n",
    "#One thing I had to do in my project is to choose for each image in one data set I, another image from another data set II that were taken close in time.\n",
    "\n",
    "#For that I have to do the following:\n",
    "\n",
    "#- For each image in data set I, I extract the observation time information from the header\n",
    "#- I loop though images from data set II and extract the same information\n",
    "#- For each pair I compute the time difference using the function explained in the earlier post\n",
    "#- I choose the image from data set II with minimum time difference from the image of data set I\n",
    "\n",
    "import pyfits\n",
    "import numpy as np\n",
    "import datetime\n",
    "import os\n",
    "\n",
    "def diff_time(t1, t2):\n",
    "\n",
    " h1, m1, s1 = t1.hour, t1.minute, t1.second\n",
    " h2, m2, s2 = t2.hour, t2.minute, t2.second\n",
    " t1_secs = s1 + (60*m1)\n",
    " t2_secs = s2 + (60*m2)\n",
    " return (t2_secs - t1_secs)\n",
    "\n",
    "\n",
    "\n",
    "path1 = '...'   #path of dataset I\n",
    "path2 = '....'  #path of dataset II\n",
    "list1 = os.listdir(path1)\n",
    "list2 = os.listdir(path2)\n",
    "\n",
    "for file1 in list1:\n",
    "  im1 = pyfits.open(path1+file1)\n",
    "  im1_header = im1[0].header\n",
    "  im1_datetime = im1_header['DATE_OBS']\n",
    "  im1_time = datetime.datetime.strptime(im1_datetime,'%Y-%m-%dT%H:%M:%S.%f').time()  #this will extract only the observation time \n",
    "\n",
    "\n",
    "  TIME = np.zeros(len(list2))  #here we are making those arrays to store the obs. time of images from data set II to later choose the minumum\n",
    "  IND = [\"\" for ind in range(len(list2))]  #these are the corresponding image files from dataset II\n",
    "  n = 0\n",
    "  for file2 in list2:\n",
    "\n",
    "       im2 = pyfits.open(path2+file2)\n",
    "       im2_header = im2[0].header\n",
    "       im2_datetime = im2_header['DATE_OBS']\n",
    "       im2_time = datetime.datetime.strptime(im2_datetime,'%Y-%m-%dT%H:%M:%S.%f').time() \n",
    "       d = diff_time(im1_time,im2_time) #calling the diff_time function\n",
    "       TIME[n] = abs(d)\n",
    "       IND[n] = file2\n",
    "       n = n+1\n",
    "  im2_min = IND[np.where(TIME==TIME.min())[0][0]]\n",
    "\n",
    "\n"
   ]
  }
 ],
 "metadata": {
  "kernelspec": {
   "display_name": "Python 2",
   "language": "python",
   "name": "python2"
  },
  "language_info": {
   "codemirror_mode": {
    "name": "ipython",
    "version": 2
   },
   "file_extension": ".py",
   "mimetype": "text/x-python",
   "name": "python",
   "nbconvert_exporter": "python",
   "pygments_lexer": "ipython2",
   "version": "2.7.12"
  }
 },
 "nbformat": 4,
 "nbformat_minor": 2
}
